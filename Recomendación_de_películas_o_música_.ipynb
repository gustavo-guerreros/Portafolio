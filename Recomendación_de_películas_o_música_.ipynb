{
  "cells": [
    {
      "cell_type": "code",
      "execution_count": 51,
      "metadata": {
        "colab": {
          "base_uri": "https://localhost:8080/",
          "height": 206
        },
        "id": "KdVLzjXDCI89",
        "outputId": "4efc8cb1-1b49-4b6a-a8b7-98dbdb5d38d1"
      },
      "outputs": [
        {
          "output_type": "execute_result",
          "data": {
            "text/plain": [
              "   userId  movieId  rating   timestamp\n",
              "0       1      110     1.0  1425941529\n",
              "1       1      147     4.5  1425942435\n",
              "2       1      858     5.0  1425941523\n",
              "3       1     1221     5.0  1425941546\n",
              "4       1     1246     5.0  1425941556"
            ],
            "text/html": [
              "\n",
              "  <div id=\"df-da41d4fc-c051-4aa7-9488-59531562925a\">\n",
              "    <div class=\"colab-df-container\">\n",
              "      <div>\n",
              "<style scoped>\n",
              "    .dataframe tbody tr th:only-of-type {\n",
              "        vertical-align: middle;\n",
              "    }\n",
              "\n",
              "    .dataframe tbody tr th {\n",
              "        vertical-align: top;\n",
              "    }\n",
              "\n",
              "    .dataframe thead th {\n",
              "        text-align: right;\n",
              "    }\n",
              "</style>\n",
              "<table border=\"1\" class=\"dataframe\">\n",
              "  <thead>\n",
              "    <tr style=\"text-align: right;\">\n",
              "      <th></th>\n",
              "      <th>userId</th>\n",
              "      <th>movieId</th>\n",
              "      <th>rating</th>\n",
              "      <th>timestamp</th>\n",
              "    </tr>\n",
              "  </thead>\n",
              "  <tbody>\n",
              "    <tr>\n",
              "      <th>0</th>\n",
              "      <td>1</td>\n",
              "      <td>110</td>\n",
              "      <td>1.0</td>\n",
              "      <td>1425941529</td>\n",
              "    </tr>\n",
              "    <tr>\n",
              "      <th>1</th>\n",
              "      <td>1</td>\n",
              "      <td>147</td>\n",
              "      <td>4.5</td>\n",
              "      <td>1425942435</td>\n",
              "    </tr>\n",
              "    <tr>\n",
              "      <th>2</th>\n",
              "      <td>1</td>\n",
              "      <td>858</td>\n",
              "      <td>5.0</td>\n",
              "      <td>1425941523</td>\n",
              "    </tr>\n",
              "    <tr>\n",
              "      <th>3</th>\n",
              "      <td>1</td>\n",
              "      <td>1221</td>\n",
              "      <td>5.0</td>\n",
              "      <td>1425941546</td>\n",
              "    </tr>\n",
              "    <tr>\n",
              "      <th>4</th>\n",
              "      <td>1</td>\n",
              "      <td>1246</td>\n",
              "      <td>5.0</td>\n",
              "      <td>1425941556</td>\n",
              "    </tr>\n",
              "  </tbody>\n",
              "</table>\n",
              "</div>\n",
              "      <button class=\"colab-df-convert\" onclick=\"convertToInteractive('df-da41d4fc-c051-4aa7-9488-59531562925a')\"\n",
              "              title=\"Convert this dataframe to an interactive table.\"\n",
              "              style=\"display:none;\">\n",
              "        \n",
              "  <svg xmlns=\"http://www.w3.org/2000/svg\" height=\"24px\"viewBox=\"0 0 24 24\"\n",
              "       width=\"24px\">\n",
              "    <path d=\"M0 0h24v24H0V0z\" fill=\"none\"/>\n",
              "    <path d=\"M18.56 5.44l.94 2.06.94-2.06 2.06-.94-2.06-.94-.94-2.06-.94 2.06-2.06.94zm-11 1L8.5 8.5l.94-2.06 2.06-.94-2.06-.94L8.5 2.5l-.94 2.06-2.06.94zm10 10l.94 2.06.94-2.06 2.06-.94-2.06-.94-.94-2.06-.94 2.06-2.06.94z\"/><path d=\"M17.41 7.96l-1.37-1.37c-.4-.4-.92-.59-1.43-.59-.52 0-1.04.2-1.43.59L10.3 9.45l-7.72 7.72c-.78.78-.78 2.05 0 2.83L4 21.41c.39.39.9.59 1.41.59.51 0 1.02-.2 1.41-.59l7.78-7.78 2.81-2.81c.8-.78.8-2.07 0-2.86zM5.41 20L4 18.59l7.72-7.72 1.47 1.35L5.41 20z\"/>\n",
              "  </svg>\n",
              "      </button>\n",
              "      \n",
              "  <style>\n",
              "    .colab-df-container {\n",
              "      display:flex;\n",
              "      flex-wrap:wrap;\n",
              "      gap: 12px;\n",
              "    }\n",
              "\n",
              "    .colab-df-convert {\n",
              "      background-color: #E8F0FE;\n",
              "      border: none;\n",
              "      border-radius: 50%;\n",
              "      cursor: pointer;\n",
              "      display: none;\n",
              "      fill: #1967D2;\n",
              "      height: 32px;\n",
              "      padding: 0 0 0 0;\n",
              "      width: 32px;\n",
              "    }\n",
              "\n",
              "    .colab-df-convert:hover {\n",
              "      background-color: #E2EBFA;\n",
              "      box-shadow: 0px 1px 2px rgba(60, 64, 67, 0.3), 0px 1px 3px 1px rgba(60, 64, 67, 0.15);\n",
              "      fill: #174EA6;\n",
              "    }\n",
              "\n",
              "    [theme=dark] .colab-df-convert {\n",
              "      background-color: #3B4455;\n",
              "      fill: #D2E3FC;\n",
              "    }\n",
              "\n",
              "    [theme=dark] .colab-df-convert:hover {\n",
              "      background-color: #434B5C;\n",
              "      box-shadow: 0px 1px 3px 1px rgba(0, 0, 0, 0.15);\n",
              "      filter: drop-shadow(0px 1px 2px rgba(0, 0, 0, 0.3));\n",
              "      fill: #FFFFFF;\n",
              "    }\n",
              "  </style>\n",
              "\n",
              "      <script>\n",
              "        const buttonEl =\n",
              "          document.querySelector('#df-da41d4fc-c051-4aa7-9488-59531562925a button.colab-df-convert');\n",
              "        buttonEl.style.display =\n",
              "          google.colab.kernel.accessAllowed ? 'block' : 'none';\n",
              "\n",
              "        async function convertToInteractive(key) {\n",
              "          const element = document.querySelector('#df-da41d4fc-c051-4aa7-9488-59531562925a');\n",
              "          const dataTable =\n",
              "            await google.colab.kernel.invokeFunction('convertToInteractive',\n",
              "                                                     [key], {});\n",
              "          if (!dataTable) return;\n",
              "\n",
              "          const docLinkHtml = 'Like what you see? Visit the ' +\n",
              "            '<a target=\"_blank\" href=https://colab.research.google.com/notebooks/data_table.ipynb>data table notebook</a>'\n",
              "            + ' to learn more about interactive tables.';\n",
              "          element.innerHTML = '';\n",
              "          dataTable['output_type'] = 'display_data';\n",
              "          await google.colab.output.renderOutput(dataTable, element);\n",
              "          const docLink = document.createElement('div');\n",
              "          docLink.innerHTML = docLinkHtml;\n",
              "          element.appendChild(docLink);\n",
              "        }\n",
              "      </script>\n",
              "    </div>\n",
              "  </div>\n",
              "  "
            ]
          },
          "metadata": {},
          "execution_count": 51
        }
      ],
      "source": [
        "import pandas as pd\n",
        "\n",
        "# Ruta del archivo CSV\n",
        "csv_file = '/content/ratings.csv'\n",
        "\n",
        "# Leer el archivo CSV en un DataFrame de pandas, limitando a 1000 filas\n",
        "df = pd.read_csv(csv_file, nrows=50000)\n",
        "\n",
        "# Mostrar los primeros 5 registros del dataframe\n",
        "df.head()"
      ]
    },
    {
      "cell_type": "code",
      "execution_count": 52,
      "metadata": {
        "colab": {
          "base_uri": "https://localhost:8080/"
        },
        "id": "yPuo6NfMGgIY",
        "outputId": "d773b60a-369d-48b4-b83f-31450afdcf6e"
      },
      "outputs": [
        {
          "output_type": "stream",
          "name": "stdout",
          "text": [
            "<class 'pandas.core.frame.DataFrame'>\n",
            "RangeIndex: 50000 entries, 0 to 49999\n",
            "Data columns (total 4 columns):\n",
            " #   Column     Non-Null Count  Dtype  \n",
            "---  ------     --------------  -----  \n",
            " 0   userId     50000 non-null  int64  \n",
            " 1   movieId    50000 non-null  int64  \n",
            " 2   rating     50000 non-null  float64\n",
            " 3   timestamp  50000 non-null  int64  \n",
            "dtypes: float64(1), int64(3)\n",
            "memory usage: 1.5 MB\n"
          ]
        }
      ],
      "source": [
        "df.info()"
      ]
    },
    {
      "cell_type": "code",
      "source": [
        "df.count()"
      ],
      "metadata": {
        "colab": {
          "base_uri": "https://localhost:8080/"
        },
        "id": "NilGoRJkJZ5u",
        "outputId": "f7fc2ed6-0e95-4b16-de10-9774186aa037"
      },
      "execution_count": 53,
      "outputs": [
        {
          "output_type": "execute_result",
          "data": {
            "text/plain": [
              "userId       50000\n",
              "movieId      50000\n",
              "rating       50000\n",
              "timestamp    50000\n",
              "dtype: int64"
            ]
          },
          "metadata": {},
          "execution_count": 53
        }
      ]
    },
    {
      "cell_type": "code",
      "execution_count": 54,
      "metadata": {
        "colab": {
          "base_uri": "https://localhost:8080/"
        },
        "id": "ESaRhVwcCJCA",
        "outputId": "74d6c7ba-cb6b-490a-e04d-f8102fda61c4"
      },
      "outputs": [
        {
          "output_type": "stream",
          "name": "stdout",
          "text": [
            "Requirement already satisfied: scikit-surprise in /usr/local/lib/python3.10/dist-packages (1.1.3)\n",
            "Requirement already satisfied: joblib>=1.0.0 in /usr/local/lib/python3.10/dist-packages (from scikit-surprise) (1.3.1)\n",
            "Requirement already satisfied: numpy>=1.17.3 in /usr/local/lib/python3.10/dist-packages (from scikit-surprise) (1.22.4)\n",
            "Requirement already satisfied: scipy>=1.3.2 in /usr/local/lib/python3.10/dist-packages (from scikit-surprise) (1.10.1)\n"
          ]
        }
      ],
      "source": [
        "pip install scikit-surprise"
      ]
    },
    {
      "cell_type": "code",
      "execution_count": 55,
      "metadata": {
        "id": "yojeVd7YIG_z"
      },
      "outputs": [],
      "source": [
        "import pandas as pd\n",
        "from surprise import Dataset, Reader, SVD\n",
        "from surprise.model_selection import train_test_split"
      ]
    },
    {
      "cell_type": "code",
      "execution_count": 56,
      "metadata": {
        "id": "aGGCPcxSIG9O"
      },
      "outputs": [],
      "source": [
        "# Crear un objeto Reader para indicar los rangos de calificación posibles\n",
        "reader = Reader(rating_scale=(1, 5))"
      ]
    },
    {
      "cell_type": "code",
      "execution_count": 57,
      "metadata": {
        "id": "j5Q2RAVvIG7D"
      },
      "outputs": [],
      "source": [
        "# Crear el dataset utilizando el objeto Reader y los datos\n",
        "data = Dataset.load_from_df(df[['userId', 'movieId', 'rating']], reader)"
      ]
    },
    {
      "cell_type": "code",
      "execution_count": 58,
      "metadata": {
        "id": "WQZ8RcgqIG4t"
      },
      "outputs": [],
      "source": [
        "# Dividir el dataset en conjuntos de entrenamiento y prueba\n",
        "trainset, testset = train_test_split(data, test_size=0.2)"
      ]
    },
    {
      "cell_type": "code",
      "execution_count": 59,
      "metadata": {
        "colab": {
          "base_uri": "https://localhost:8080/"
        },
        "id": "mDCkaNIGIG2Y",
        "outputId": "faf1aeb6-98bb-460c-d535-6fd8b4a271bc"
      },
      "outputs": [
        {
          "output_type": "execute_result",
          "data": {
            "text/plain": [
              "<surprise.prediction_algorithms.matrix_factorization.SVD at 0x7892eb054d00>"
            ]
          },
          "metadata": {},
          "execution_count": 59
        }
      ],
      "source": [
        "# Crear y entrenar el modelo SVD\n",
        "model = SVD()\n",
        "model.fit(trainset)\n"
      ]
    },
    {
      "cell_type": "code",
      "execution_count": 60,
      "metadata": {
        "id": "jrU8jwXGJiZB"
      },
      "outputs": [],
      "source": [
        "# Hacer predicciones para un usuario específico (por ejemplo, usuario con ID 1)\n",
        "user_id = 1\n",
        "anti_testset = trainset.build_anti_testset()\n",
        "anti_testset = filter(lambda x: x[0] == user_id, anti_testset)\n",
        "predictions = model.test(anti_testset)\n"
      ]
    },
    {
      "cell_type": "code",
      "execution_count": 61,
      "metadata": {
        "id": "6jd-lvhcJiRr",
        "colab": {
          "base_uri": "https://localhost:8080/"
        },
        "outputId": "f1ffdfe4-7329-4722-ec1a-e8a01db0ea21"
      },
      "outputs": [
        {
          "output_type": "stream",
          "name": "stdout",
          "text": [
            "Recomendaciones para el usuario con ID 1:\n",
            "Película ID: 318, Predicción de calificación: 5\n",
            "Película ID: 1201, Predicción de calificación: 4.887564875922392\n",
            "Película ID: 1213, Predicción de calificación: 4.85252363711775\n",
            "Película ID: 6016, Predicción de calificación: 4.849817218428812\n",
            "Película ID: 1228, Predicción de calificación: 4.840848124477694\n",
            "Película ID: 1193, Predicción de calificación: 4.838021659593236\n",
            "Película ID: 296, Predicción de calificación: 4.785829613710134\n",
            "Película ID: 1198, Predicción de calificación: 4.77599272445861\n",
            "Película ID: 1258, Predicción de calificación: 4.7352197045451945\n",
            "Película ID: 1136, Predicción de calificación: 4.728452725196563\n"
          ]
        }
      ],
      "source": [
        "# Obtener las recomendaciones ordenadas por las predicciones de calificación\n",
        "top_n = 10\n",
        "recommended_movies = sorted(predictions, key=lambda x: x.est, reverse=True)[:top_n]\n",
        "\n",
        "# Mostrar las recomendaciones\n",
        "print(f\"Recomendaciones para el usuario con ID {user_id}:\")\n",
        "for movie in recommended_movies:\n",
        "    print(f\"Película ID: {movie.iid}, Predicción de calificación: {movie.est}\")\n"
      ]
    },
    {
      "cell_type": "code",
      "source": [
        "# Lista de IDs de usuarios para los que deseamos obtener recomendaciones\n",
        "user_ids = [1, 2, 3, 4]\n",
        "\n",
        "for user_id in user_ids:\n",
        "    anti_testset = trainset.build_anti_testset()\n",
        "    anti_testset = filter(lambda x: x[0] == user_id, anti_testset)\n",
        "    predictions = model.test(anti_testset)\n",
        "\n",
        "    top_n = 10\n",
        "    recommended_movies = sorted(predictions, key=lambda x: x.est, reverse=True)[:top_n]\n",
        "\n",
        "    print(f\"Recomendaciones para el usuario con ID {user_id}:\")\n",
        "    for movie in recommended_movies:\n",
        "        print(f\"Película ID: {movie.iid}, Predicción de calificación: {movie.est}\")\n",
        "    print(\"\\n\")\n"
      ],
      "metadata": {
        "colab": {
          "base_uri": "https://localhost:8080/"
        },
        "id": "izbMWYBFF2__",
        "outputId": "c7c13be1-be4d-42b4-df4e-4002a4fc0ee3"
      },
      "execution_count": 62,
      "outputs": [
        {
          "output_type": "stream",
          "name": "stdout",
          "text": [
            "Recomendaciones para el usuario con ID 1:\n",
            "Película ID: 318, Predicción de calificación: 5\n",
            "Película ID: 1201, Predicción de calificación: 4.887564875922392\n",
            "Película ID: 1213, Predicción de calificación: 4.85252363711775\n",
            "Película ID: 6016, Predicción de calificación: 4.849817218428812\n",
            "Película ID: 1228, Predicción de calificación: 4.840848124477694\n",
            "Película ID: 1193, Predicción de calificación: 4.838021659593236\n",
            "Película ID: 296, Predicción de calificación: 4.785829613710134\n",
            "Película ID: 1198, Predicción de calificación: 4.77599272445861\n",
            "Película ID: 1258, Predicción de calificación: 4.7352197045451945\n",
            "Película ID: 1136, Predicción de calificación: 4.728452725196563\n",
            "\n",
            "\n",
            "Recomendaciones para el usuario con ID 2:\n",
            "Película ID: 1213, Predicción de calificación: 4.419656143192218\n",
            "Película ID: 1136, Predicción de calificación: 4.409606958062017\n",
            "Película ID: 1201, Predicción de calificación: 4.355614156547158\n",
            "Película ID: 750, Predicción de calificación: 4.329198523957037\n",
            "Película ID: 318, Predicción de calificación: 4.306479682712046\n",
            "Película ID: 1089, Predicción de calificación: 4.247708928751331\n",
            "Película ID: 1228, Predicción de calificación: 4.228884943363038\n",
            "Película ID: 858, Predicción de calificación: 4.228339177176302\n",
            "Película ID: 296, Predicción de calificación: 4.226141299083681\n",
            "Película ID: 48780, Predicción de calificación: 4.2178241729180295\n",
            "\n",
            "\n",
            "Recomendaciones para el usuario con ID 3:\n",
            "Película ID: 1193, Predicción de calificación: 4.147358042602588\n",
            "Película ID: 318, Predicción de calificación: 4.114605261291289\n",
            "Película ID: 6016, Predicción de calificación: 4.110502715781098\n",
            "Película ID: 593, Predicción de calificación: 4.105203602860745\n",
            "Película ID: 1198, Predicción de calificación: 4.082886118931696\n",
            "Película ID: 1136, Predicción de calificación: 4.0691523131549285\n",
            "Película ID: 4226, Predicción de calificación: 4.054526665670806\n",
            "Película ID: 1201, Predicción de calificación: 4.054081459857648\n",
            "Película ID: 4973, Predicción de calificación: 4.0538776351792025\n",
            "Película ID: 1197, Predicción de calificación: 4.050303282800819\n",
            "\n",
            "\n",
            "Recomendaciones para el usuario con ID 4:\n",
            "Película ID: 318, Predicción de calificación: 4.505577987128307\n",
            "Película ID: 1136, Predicción de calificación: 4.498463562276929\n",
            "Película ID: 2329, Predicción de calificación: 4.486412083571171\n",
            "Película ID: 134853, Predicción de calificación: 4.450293648623168\n",
            "Película ID: 1196, Predicción de calificación: 4.420445281159347\n",
            "Película ID: 527, Predicción de calificación: 4.414477151651448\n",
            "Película ID: 48780, Predicción de calificación: 4.403177795853469\n",
            "Película ID: 1252, Predicción de calificación: 4.377121479994263\n",
            "Película ID: 1089, Predicción de calificación: 4.356264222581194\n",
            "Película ID: 1213, Predicción de calificación: 4.342571303013671\n",
            "\n",
            "\n"
          ]
        }
      ]
    },
    {
      "cell_type": "code",
      "source": [
        "from surprise.model_selection import cross_validate\n",
        "import numpy as np\n",
        "\n",
        "\n",
        "# Realizar validación cruzada con 5 folds\n",
        "cv_results = cross_validate(model, data, measures=['RMSE'], cv=5, verbose=True)\n",
        "\n",
        "# Obtener el RMSE promedio del modelo\n",
        "avg_rmse = np.mean(cv_results['test_rmse'])\n",
        "print(f\"RMSE promedio del modelo: {avg_rmse}\")\n"
      ],
      "metadata": {
        "colab": {
          "base_uri": "https://localhost:8080/"
        },
        "id": "-8M2ZHOuF26J",
        "outputId": "2284283e-3edd-4ec9-8b60-0f18035d49b5"
      },
      "execution_count": 64,
      "outputs": [
        {
          "output_type": "stream",
          "name": "stdout",
          "text": [
            "Evaluating RMSE of algorithm SVD on 5 split(s).\n",
            "\n",
            "                  Fold 1  Fold 2  Fold 3  Fold 4  Fold 5  Mean    Std     \n",
            "RMSE (testset)    0.8960  0.8807  0.8957  0.8977  0.8819  0.8904  0.0075  \n",
            "Fit time          0.80    0.78    0.80    1.09    0.86    0.87    0.12    \n",
            "Test time         0.07    0.08    0.06    0.13    0.06    0.08    0.02    \n",
            "RMSE promedio del modelo: 0.8904011525208457\n"
          ]
        }
      ]
    },
    {
      "cell_type": "code",
      "source": [
        "from surprise.model_selection import GridSearchCV\n",
        "\n",
        "# Definir los hiperparámetros a probar\n",
        "param_grid = {'n_factors': [50, 100, 150], 'n_epochs': [20, 30, 40], 'lr_all': [0.002, 0.005, 0.01], 'reg_all': [0.01, 0.02, 0.05]}\n",
        "\n",
        "# Crear el objeto GridSearchCV para el modelo SVD\n",
        "grid_search = GridSearchCV(SVD, param_grid, measures=['RMSE'], cv=5, n_jobs=-1)\n",
        "\n",
        "# Realizar la búsqueda de cuadrícula en los hiperparámetros\n",
        "grid_search.fit(data)\n",
        "\n",
        "# Obtener los mejores hiperparámetros y el mejor RMSE\n",
        "best_params = grid_search.best_params['rmse']\n",
        "best_rmse = grid_search.best_score['rmse']\n",
        "\n",
        "print(f\"Mejores hiperparámetros: {best_params}\")\n",
        "print(f\"Mejor RMSE: {best_rmse}\")\n"
      ],
      "metadata": {
        "id": "YKNDKZ7JFTpX",
        "colab": {
          "base_uri": "https://localhost:8080/"
        },
        "outputId": "c3b66abc-0544-4f5c-93de-17795fea1235"
      },
      "execution_count": 65,
      "outputs": [
        {
          "output_type": "stream",
          "name": "stdout",
          "text": [
            "Mejores hiperparámetros: {'n_factors': 100, 'n_epochs': 40, 'lr_all': 0.01, 'reg_all': 0.05}\n",
            "Mejor RMSE: 0.8779691638783452\n"
          ]
        }
      ]
    },
    {
      "cell_type": "code",
      "source": [
        "# Crear un objeto Reader para indicar los rangos de calificación posibles\n",
        "reader = Reader(rating_scale=(1, 5))\n",
        "\n",
        "# Crear el dataset utilizando el objeto Reader y los datos\n",
        "data = Dataset.load_from_df(df[['userId', 'movieId', 'rating']], reader)\n",
        "\n",
        "# Dividir el dataset en conjuntos de entrenamiento y prueba\n",
        "trainset, testset = train_test_split(data, test_size=0.2)\n",
        "\n",
        "# Crear y entrenar el modelo SVD con los mejores hiperparámetros\n",
        "model = SVD(n_factors=100, n_epochs=40, lr_all=0.01, reg_all=0.05)\n",
        "model.fit(trainset)\n",
        "\n",
        "# Realizar validación cruzada con 5 folds\n",
        "cv_results = cross_validate(model, data, measures=['RMSE'], cv=5, verbose=True)\n",
        "\n",
        "# Obtener el RMSE promedio del modelo\n",
        "avg_rmse = np.mean(cv_results['test_rmse'])\n",
        "print(f\"RMSE promedio del modelo: {avg_rmse}\")\n",
        "\n",
        "# Lista de IDs de usuarios para los que deseamos obtener recomendaciones\n",
        "user_ids = [2, 3, 4]\n",
        "\n",
        "for user_id in user_ids:\n",
        "    anti_testset = trainset.build_anti_testset()\n",
        "    anti_testset = filter(lambda x: x[0] == user_id, anti_testset)\n",
        "    predictions = model.test(anti_testset)\n",
        "\n",
        "    top_n = 10\n",
        "    recommended_movies = sorted(predictions, key=lambda x: x.est, reverse=True)[:top_n]\n",
        "\n",
        "    # Obtener las películas y sus predicciones de calificación\n",
        "    movie_ids = [movie.iid for movie in recommended_movies]\n",
        "    ratings = [movie.est for movie in recommended_movies]\n"
      ],
      "metadata": {
        "colab": {
          "base_uri": "https://localhost:8080/"
        },
        "id": "JYpzO70vPRIL",
        "outputId": "f363ede7-e69e-44f0-caeb-cc7a50346ec2"
      },
      "execution_count": 67,
      "outputs": [
        {
          "output_type": "stream",
          "name": "stdout",
          "text": [
            "Evaluating RMSE of algorithm SVD on 5 split(s).\n",
            "\n",
            "                  Fold 1  Fold 2  Fold 3  Fold 4  Fold 5  Mean    Std     \n",
            "RMSE (testset)    0.8861  0.8749  0.8691  0.8844  0.8795  0.8788  0.0062  \n",
            "Fit time          1.80    1.59    1.59    1.60    1.59    1.63    0.08    \n",
            "Test time         0.07    0.38    0.07    0.07    0.07    0.13    0.12    \n",
            "RMSE promedio del modelo: 0.8788296058283269\n"
          ]
        }
      ]
    }
  ],
  "metadata": {
    "colab": {
      "provenance": []
    },
    "kernelspec": {
      "display_name": "Python 3",
      "name": "python3"
    },
    "language_info": {
      "name": "python"
    }
  },
  "nbformat": 4,
  "nbformat_minor": 0
}